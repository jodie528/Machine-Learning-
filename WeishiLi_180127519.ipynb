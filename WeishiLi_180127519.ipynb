{
 "cells": [
  {
   "cell_type": "markdown",
   "metadata": {},
   "source": [
    "# Generalization: Model Validation\n",
    "\n",
    "### 27th October 2015 Neil D. Lawrence"
   ]
  },
  {
   "cell_type": "markdown",
   "metadata": {},
   "source": [
    "If we had to summarise the objectives of machine learning in one word, a very good candidate for that word would be *generalization*. What is generalization? From a human perspective it might be summarised as the ability to take lessons learned in one domain and apply them to another domain. If we accept the definition given in the first session for machine learning, \n",
    "$$\n",
    "\\text{data} + \\text{model} \\xrightarrow{\\text{compute}} \\text{prediction}\n",
    "$$\n",
    "then we see that without a model we can't generalise: we only have data. Data is fine for answering very specific questions, like \"Who won the Olympic Marathon in 2012?\", because we have that answer stored, however, we are not given the answer to many other questions. For example, Alan Turing was a formidable marathon runner, in 1946 he ran a time 2 hours 46 minutes (just under four minutes per kilometer, faster than most of the other [Endcliffe Park Run](http://www.parkrun.org.uk/sheffieldhallam/) runners can do 5 km). What is the probability he would have won an Olympics if one had been held in 1946?  \n",
    "![Alan Turing, Times in the Times](http://www.turing.org.uk/turing/pi2/times2.gif)![Alan Turing running in 1946](http://www.turing.org.uk/turing/pi2/run.jpg)\n",
    "<center>*Alan Turing, in 1946 he was only 11 minutes slower than the winner of the 1948 games. Would he have won a hypothetical games held in 1946? Source: [Alan Turing Internet Scrapbook](http://www.turing.org.uk/scrapbook/run.html).*</center>\n",
    "To answer this question we need to generalize, but before we formalize the concept of generalization let's introduce some formal representation of what it means to generalize in machine learning.\n",
    "\n",
    "### Expected Loss\n",
    "\n",
    "Our objective function so far has been the negative log likelihood, which we have minimized (via the sum of squares error) to obtain our model. However, there is an alternative perspective on an objective function, that of a *loss function*. A loss function is a cost function associated with the penalty you might need to pay for a particular incorrect decision. One approach to machine learning involves specifying a loss function and considering how much a particular model is likely to cost us across its lifetime. We can represent this with an expectation. If our loss function is given as $L(y, x, \\mathbf{w})$ for a particular model that predicts $y$ given $x$ and $\\mathbf{w}$ then we are interested in minimizing the expected loss under the likely distribution of $y$ and $x$. To understand this formally we define the *true* distribution of the data samples, $y$, $x$. This is a very special distribution that we don't have access to very often, and to represent that we define it with a special letter 'P', $\\mathbb{P}(y, x)$. If we genuinely pay $L(y, x, \\mathbf{w})$ for every mistake we make, and the future test data is genuinely drawn from $\\mathbb{P}(y, x)$ then we can define our expected loss, or risk, to be,\n",
    "$$\n",
    "R(\\mathbf{w}) = \\int L(y, x, \\mathbf{w}) \\mathbb{P}(y, x) \\text{d}y \\text{d}x.\n",
    "$$\n",
    "Of course, in practice, this value can't be computed *but* it serves as a reminder of what it is we are aiming to minimize and under certain circumstances it can be approximated.\n",
    "\n",
    "### Sample Based Approximations\n",
    "\n",
    "A sample based approximation to an expectation involves replacing the true expectation with a sum over samples from the distribution. \n",
    "$$\n",
    "\\int f(z) p(z) \\text{d}y \\text{d}z\\approx \\frac{1}{s}\\sum_{i=1}^s f(z_i).\n",
    "$$\n",
    "if $\\{z_i\\}_{i=1}^s$ are a set of $s$ independent and identically distributed samples from the distribution $p(z)$. This approximation becomes better for larger $s$, although the *rate of convergence* to the true integral will be very dependent on the distribution $p(z)$ *and* the function $f(z)$. \n",
    "\n",
    "That said, this means we can approximate our true integral with the sum,\n",
    "$$\n",
    "R(\\mathbf{w}) \\approx \\frac{1}{n}\\sum_{i=1}^n L(y_i, x_i, \\mathbf{w}),\n",
    "$$\n",
    "if $y_i$ and $x_i$ are independent samples from the true distribution $\\mathbb{P}(y, x)$. Minimizing this sum directly is known as *empirical risk minimization*. The sum of squares error we have been using can be recovered for this case by considering a *squared loss*,\n",
    "$$\n",
    "L(y, x, \\mathbf{w}) = (y-\\mathbf{w}^\\top\\boldsymbol{\\phi}(x))^2\n",
    "$$\n",
    "which gives an empirical risk of the form\n",
    "$$\n",
    "R(\\mathbf{w}) \\approx \\frac{1}{n} \\sum_{i=1}^n (y_i - \\mathbf{w}^\\top \\boldsymbol{\\phi}(x_i))^2\n",
    "$$\n",
    "which up to the constant $\\frac{1}{n}$ is identical to the objective function we have been using so far.\n",
    "\n",
    "\n",
    "### Estimating Risk through Validation\n",
    "\n",
    "Unfortunately, minimising the empirial risk only guarantees something about our performance on the training data. If we don't have enough data for the approximation to the risk to be valid, then we can end up performing significantly worse on test data. Fortunately, we can also estimate the risk for test data through estimating the risk for unseen data.\n",
    "\n",
    "The main trick here is to 'hold out' a portion of our data from training and use the models performance on that sub-set of the data as a proxy for the true risk. This data is known as 'validation' data. It contrasts with test data, because it's values are known at the model design time. However, in contrast to test data we don't use it to fit our model. This means that it doesn't exhibit the same bias that the empirical risk does when estimating the true risk.\n",
    "\n",
    "In this lab we will explore techniques for model selection that make use of validation data. Data that isn't seen by the model in the learning (or fitting) phase, but is used to *validate* our choice of model from amongst the different designs we have selected.\n",
    "\n",
    "In machine learning, we are looking to minimise the value of our objective function $E$ with respect to its parameters $\\mathbf{w}$. We do this by considering our training data. We minimize the value of the objective function as it's observed at each training point. However we are really interested in how the model will perform on future data. For evaluating that we choose to *hold out* a portion of the data for evaluating the quality of the model.\n",
    "\n",
    "We will review the different methods of model selection on the Olympics marathon data. Firstly we import the olympics data. "
   ]
  },
  {
   "cell_type": "code",
   "execution_count": 1,
   "metadata": {},
   "outputs": [],
   "source": [
    "import numpy as np\n",
    "import pods\n",
    "data = pods.datasets.olympic_marathon_men()\n",
    "x = data['X']\n",
    "y = data['Y']"
   ]
  },
  {
   "cell_type": "markdown",
   "metadata": {},
   "source": [
    "We can plot them to check that they've loaded in correctly.\n"
   ]
  },
  {
   "cell_type": "code",
   "execution_count": 2,
   "metadata": {},
   "outputs": [
    {
     "data": {
      "text/plain": [
       "[<matplotlib.lines.Line2D at 0x1109dcf28>]"
      ]
     },
     "execution_count": 2,
     "metadata": {},
     "output_type": "execute_result"
    },
    {
     "data": {
      "image/png": "[encoded data removed]",
      "text/plain": [
       "<Figure size 432x288 with 1 Axes>"
      ]
     },
     "metadata": {},
     "output_type": "display_data"
    }
   ],
   "source": [
    "%matplotlib inline\n",
    "import pylab as plt\n",
    "plt.plot(x, y, 'rx')"
   ]
  },
  {
   "cell_type": "markdown",
   "metadata": {},
   "source": [
    "## Hold Out Validation\n",
    "\n",
    "The first thing we'll do is fit a standard linear model to the data. We recall from previous lectures and lab classes that to do this we need to solve the system\n",
    "$$\n",
    "\\boldsymbol{\\Phi}^\\top \\boldsymbol{\\Phi} \\mathbf{w} = \\boldsymbol{\\Phi}^\\top \\mathbf{y}\n",
    "$$\n",
    "for $\\mathbf{w}$  and use the resulting vector to make predictions at the training points and test points,\n",
    "$$\n",
    "\\mathbf{f} = \\boldsymbol{\\Phi} \\mathbf{w}.\n",
    "$$\n",
    "The prediction function can be used to compute the objective function,\n",
    "$$\n",
    "E(\\mathbf{w}) = \\sum_{i}^n (y_i - \\mathbf{w}^\\top\\phi(\\mathbf{x}_i))^2\n",
    "$$\n",
    "by substituting in the prediction in vector form we have\n",
    "$$\n",
    "E(\\mathbf{w}) =  (\\mathbf{y} - \\mathbf{f})^\\top(\\mathbf{y} - \\mathbf{f})\n",
    "$$"
   ]
  },
  {
   "cell_type": "markdown",
   "metadata": {},
   "source": [
    "### Assignment Question 1\n",
    "\n",
    "In this question you will construct some flexible general code for fitting linear models.\n",
    "\n",
    "Create a python function that computes $\\boldsymbol{\\Phi}$ for the linear basis,\n",
    "$$\\boldsymbol{\\Phi} = \\begin{bmatrix} \\mathbf{x} & \\mathbf{1}\\end{bmatrix}$$\n",
    "Name your function `linear`. `Phi` should be in the form of a *design matrix* and `x` should be in the form of a `numpy` two dimensional array with $n$ rows and 1 column\n",
    "Calls to your function should be in the following form:\n",
    "\n",
    "```python\n",
    "Phi = linear(x)\n",
    "```\n",
    "\n",
    "Create a python function that accepts, as arguments, a python function that defines a basis (like the one you've just created called `linear`) as well as a set of inputs and a vector of parameters. Your new python function should return a prediction. Name your function `prediction`. The return value `f` should be a two dimensional `numpy` array with $n$ rows and $1$ column, where $n$ is the number of data points. Calls to your function should be in the following form:\n",
    "\n",
    "```python\n",
    "f = prediction(w, x, linear)\n",
    "```\n",
    "\n",
    "Create a python function that computes the sum of squares objective function (or error function). It should accept your input data (or covariates) and target data (or response variables) and your parameter vector `w` as arguments. It should also accept a python function that represents the basis. Calls to your function should be in the following form:\n",
    "\n",
    "```python\n",
    "e = objective(w, x, y, linear)\n",
    "```\n",
    "\n",
    "Create a function that solves the linear system for the set of parameters that minimizes the sum of squares objective. It should accept input data, target data and a python function for the basis as the inputs. Calls to your function should be in the following form:\n",
    "\n",
    "```python\n",
    "w = fit(x, y, linear)\n",
    "```\n",
    "\n",
    "Fit a linear model to the olympic data using these functions and plot the resulting prediction between 1890 and 2020. Set the title of the plot to be the error of the fit on the *training data*.\n",
    "\n",
    "*15 marks*"
   ]
  },
  {
   "cell_type": "code",
   "execution_count": 3,
   "metadata": {},
   "outputs": [
    {
     "name": "stdout",
     "output_type": "stream",
     "text": [
      "[[1.896e+03 1.000e+00]\n",
      " [1.900e+03 1.000e+00]\n",
      " [1.904e+03 1.000e+00]\n",
      " [1.908e+03 1.000e+00]\n",
      " [1.912e+03 1.000e+00]\n",
      " [1.920e+03 1.000e+00]\n",
      " [1.924e+03 1.000e+00]\n",
      " [1.928e+03 1.000e+00]\n",
      " [1.932e+03 1.000e+00]\n",
      " [1.936e+03 1.000e+00]\n",
      " [1.948e+03 1.000e+00]\n",
      " [1.952e+03 1.000e+00]\n",
      " [1.956e+03 1.000e+00]\n",
      " [1.960e+03 1.000e+00]\n",
      " [1.964e+03 1.000e+00]\n",
      " [1.968e+03 1.000e+00]\n",
      " [1.972e+03 1.000e+00]\n",
      " [1.976e+03 1.000e+00]\n",
      " [1.980e+03 1.000e+00]\n",
      " [1.984e+03 1.000e+00]\n",
      " [1.988e+03 1.000e+00]\n",
      " [1.992e+03 1.000e+00]\n",
      " [1.996e+03 1.000e+00]\n",
      " [2.000e+03 1.000e+00]\n",
      " [2.004e+03 1.000e+00]\n",
      " [2.008e+03 1.000e+00]\n",
      " [2.012e+03 1.000e+00]]\n",
      "[[-1.29806477e-02]\n",
      " [ 2.88952457e+01]]\n",
      "[[4.28393761]\n",
      " [4.23201502]\n",
      " [4.18009243]\n",
      " [4.12816984]\n",
      " [4.07624725]\n",
      " [3.97240206]\n",
      " [3.92047947]\n",
      " [3.86855688]\n",
      " [3.81663429]\n",
      " [3.7647117 ]\n",
      " [3.60894393]\n",
      " [3.55702134]\n",
      " [3.50509874]\n",
      " [3.45317615]\n",
      " [3.40125356]\n",
      " [3.34933097]\n",
      " [3.29740838]\n",
      " [3.24548579]\n",
      " [3.1935632 ]\n",
      " [3.14164061]\n",
      " [3.08971802]\n",
      " [3.03779543]\n",
      " [2.98587283]\n",
      " [2.93395024]\n",
      " [2.88202765]\n",
      " [2.83010506]\n",
      " [2.77818247]]\n",
      "1.9799837689231603\n"
     ]
    }
   ],
   "source": [
    "#### Question 1 Answer Code\n",
    "# Write code for you answer to this question in this box\n",
    "# Do not delete these comments, otherwise you will get zero for this answer.\n",
    "# Make sure your code has run and the answer is correct *before* submitting your notebook for marking.\n",
    "\n",
    "#------------------Function of computing Phi--------------------\n",
    "np.array(x)\n",
    "\n",
    "#print (x)\n",
    "\n",
    "#print(x.shape)\n",
    "#print (full_1)\n",
    "\n",
    "def linear(x):  \n",
    "    full_1 = np.ones((x.shape[0],1))\n",
    "    Phi = np.hstack([x,full_1])    \n",
    "    return Phi\n",
    "#------------------Function of Prediction-----------------------\n",
    "def prediction(w, x, basis):\n",
    "    if basis == linear:\n",
    "        Phi = linear(x)\n",
    "    elif basis == quadratic:\n",
    "        Phi = quadratic(x)\n",
    "    f = np.dot(Phi, w)\n",
    "    return f\n",
    "#------------------Function of Objective-------------------------\n",
    "def objective(w, x, y, basis):\n",
    "    if basis == linear:\n",
    "        f = prediction(w, x, linear)\n",
    "    elif basis == quadratic:\n",
    "        f = prediction(w, x, quadratic)\n",
    "    e = float(np.dot((y-f).T, (y-f)))\n",
    "    return e\n",
    "#------------------Function of Fit-------------------------------\n",
    "def fit(x, y, basis):\n",
    "    if basis == linear:\n",
    "        Phi = linear(x)\n",
    "    elif basis == quadratic:\n",
    "        Phi = quadratic(x)\n",
    "    w = np.linalg.solve(np.dot(Phi.T, Phi),np.dot(Phi.T, y)) \n",
    "    return w\n",
    "\n",
    "Phi = linear(x)\n",
    "w = fit(x, y, linear)\n",
    "f = prediction(w, x, linear)\n",
    "e = objective(w, x, y, linear)\n",
    "\n",
    "print (Phi) #27 x 2 matrix / basis functions\n",
    "print (w) #2 X 1  matrix / parameters\n",
    "print (f) #27 x 1  matrix / prediction \n",
    "print (e) #float / error\n"
   ]
  },
  {
   "cell_type": "markdown",
   "metadata": {},
   "source": [
    "## Polynomial Fit: Training Error\n",
    "\n",
    "The next thing we'll do is consider a quadratic fit. We will compute the training error for the two fits.\n"
   ]
  },
  {
   "cell_type": "markdown",
   "metadata": {},
   "source": [
    "### Assignment Question 2\n",
    "\n",
    "In this question we extend the code above to a non-linear basis (a quadratic function).\n",
    "\n",
    "Start by creating a python-function called `quadratic`. It should compute the quadratic basis.\n",
    "$$\\boldsymbol{\\Phi} = \\begin{bmatrix} \\mathbf{1} & \\mathbf{x} & \\mathbf{x}^2\\end{bmatrix}$$\n",
    "It should be called in the following form:\n",
    "```python\n",
    "Phi = quadratic(x)\n",
    "```\n",
    "Use this to compute the quadratic fit for the model, again plotting the result titled by the error.\n",
    "\n",
    "*10 marks*"
   ]
  },
  {
   "cell_type": "code",
   "execution_count": 4,
   "metadata": {},
   "outputs": [
    {
     "name": "stdout",
     "output_type": "stream",
     "text": [
      "1.1505154038339405\n"
     ]
    },
    {
     "data": {
      "text/plain": [
       "Text(0.5,1,'Error of quadratic basis function')"
      ]
     },
     "execution_count": 4,
     "metadata": {},
     "output_type": "execute_result"
    },
    {
     "data": {
      "image/png": "[encoded data removed]",
      "text/plain": [
       "<Figure size 864x288 with 1 Axes>"
      ]
     },
     "metadata": {},
     "output_type": "display_data"
    },
    {
     "data": {
      "image/png": "[encoded data removed]",
      "text/plain": [
       "<Figure size 864x288 with 1 Axes>"
      ]
     },
     "metadata": {},
     "output_type": "display_data"
    }
   ],
   "source": [
    "#### Question 2 Answer Code\n",
    "# Write code for you answer to this question in this box\n",
    "# Do not delete these comments, otherwise you will get zero for this answer.\n",
    "# Make sure your code has run and the answer is correct *before* submitting your notebook for marking.\n",
    "\n",
    "num_basis = 3\n",
    "#------------------Function of quadratic--------------------\n",
    "def quadratic(x):\n",
    "    full_1 = np.ones((x.shape[0],1))\n",
    "    Phi = np.hstack([full_1,x,x*x])\n",
    "    return Phi\n",
    "#Phi = quadratic(x)\n",
    "#print(Phi)\n",
    "w = fit(x, y, quadratic)\n",
    "e = objective(w, x, y, quadratic)\n",
    "print (e)\n",
    "\n",
    "#----------------------plot----------------------------------\n",
    "fig, ax = plt.subplots(figsize=(12,4))\n",
    "ax.set_ylim([2., 6])\n",
    "ax.plot(x, y, 'rx')\n",
    "ax.plot(x[:,0], f, 'g-', label = 'basis = quadratic')\n",
    "ax.legend(loc='lower right')\n",
    "ax.set_title('Quadratic fitting function')\n",
    "\n",
    "fig, ax = plt.subplots(figsize=(12,4))\n",
    "#ax.set_ylim([2., 5])\n",
    "ax.plot(num_basis, e, 'r.')\n",
    "ax.set_title('Error of quadratic basis function')"
   ]
  },
  {
   "cell_type": "markdown",
   "metadata": {},
   "source": [
    "### Hold Out Data\n",
    "\n",
    "You have a conclusion as to which model fits best under the training error, but how do the two models perform in terms of validation? In this section we consider *hold out* validation. In hold out validation we remove a portion of the training data for *validating* the model on. The remaining data is used for fitting the model (training). Because this is a time series prediction, it makes sense for us to hold out data at the end of the time series. This means that we are validating on future predictions. We will hold out data from after 1980 and fit the model to the data before 1980. "
   ]
  },
  {
   "cell_type": "code",
   "execution_count": 5,
   "metadata": {},
   "outputs": [],
   "source": [
    "# select indices of data to 'hold out'\n",
    "indices_hold_out = np.flatnonzero(x>1980)\n",
    "\n",
    "# Create a training set\n",
    "x_train = np.delete(x, indices_hold_out, axis=0)\n",
    "y_train = np.delete(y, indices_hold_out, axis=0)\n",
    "\n",
    "# Create a hold out set\n",
    "x_valid = np.take(x, indices_hold_out, axis=0)\n",
    "y_valid = np.take(y, indices_hold_out, axis=0)"
   ]
  },
  {
   "cell_type": "markdown",
   "metadata": {},
   "source": [
    "### Assignment Question 3\n",
    "\n",
    "For both the linear and quadratic models, fit the model to the data up until 1980 and then compute the error on the held out data (from 1980 onwards). Which model performs better on the validation data?\n",
    "\n",
    "*10 marks*"
   ]
  },
  {
   "cell_type": "code",
   "execution_count": 6,
   "metadata": {},
   "outputs": [
    {
     "name": "stdout",
     "output_type": "stream",
     "text": [
      "Error from the linear model on the validation data 1.9115972528742846\n",
      "Error from the quadratic model on the validation data 0.3375058139668411 \n",
      "\n",
      "The quadratic model performs better on the validation data.\n"
     ]
    }
   ],
   "source": [
    "#### Question 3 Answer Code\n",
    "# Write code for you answer to this question in this box\n",
    "# Do not delete these comments, otherwise you will get zero for this answer.\n",
    "# Make sure your code has run and the answer is correct *before* submitting your notebook for marking.\n",
    "\n",
    "#-------------------For the linear model-----------------------\n",
    "w = fit(x_train, y_train, linear)\n",
    "e_line = objective(w, x_valid, y_valid, linear)\n",
    "print ('Error from the linear model on the validation data',e_line)\n",
    "\n",
    "#-------------------For the quadratic model--------------------\n",
    "w = fit(x_train, y_train, quadratic)\n",
    "e_quad = objective(w, x_valid, y_valid, quadratic)\n",
    "print ('Error from the quadratic model on the validation data',e_quad,'\\n')\n",
    "\n",
    "print ('The quadratic model performs better on the validation data.')"
   ]
  },
  {
   "cell_type": "markdown",
   "metadata": {},
   "source": [
    "### Richer Basis Set\n",
    "\n",
    "Now we have an approach for deciding which model to retain, we can consider the entire family of polynomial bases, with arbitrary degrees.  "
   ]
  },
  {
   "cell_type": "markdown",
   "metadata": {},
   "source": [
    "### Assignment Question 4\n",
    "\n",
    "Now we are going to build a more sophisticated form of basis function, one that can accept arguments to its inputs (similar to those we used in the lab for week 4). Here we will start with a polynomial basis.\n",
    "\n",
    "```python\n",
    "def polynomial(x, degree, loc, scale):\n",
    "    degrees = np.arange(degree+1)\n",
    "    return ((x-loc)/scale)**degrees\n",
    "```\n",
    "The basis as we've defined it has three arguments as well as the input. The degree of the polynomial, the scale of the polynomial and the offset. These arguments need to be passed to the basis functions whenever they are called. Modify your code to pass these additional arguments to the python function for creating the basis. Do this for each of your functions `predict`, `fit` and `objective`. You will find `*args` (or `**kwargs`) useful.\n",
    "\n",
    "Write code that tries to fit different models to the data with polynomial basis. Use a maximum degree for your basis from 0 to 17. For each polynomial store the *hold out validation error* and the *training error*. When you have finished the computation plot the hold out error for your models and the training error for your p. When computing your polynomial basis use `offset=1956.` and `scale=120.` to ensure that the data is mapped (roughly) to the -1, 1 range.\n",
    "\n",
    "Which polynomial has the minimum training error? Which polynomial has the minimum validation error?\n",
    "\n",
    "*25 marks*"
   ]
  },
  {
   "cell_type": "code",
   "execution_count": 185,
   "metadata": {
    "scrolled": true
   },
   "outputs": [
    {
     "name": "stdout",
     "output_type": "stream",
     "text": [
      "2 degree polynomial has the minimum validation error 0.3375058241645961\n",
      "15 degree polynomial has the minimum training error 0.03448073432939132\n"
     ]
    },
    {
     "data": {
      "text/plain": [
       "Text(0.5,1,'data range')"
      ]
     },
     "execution_count": 185,
     "metadata": {},
     "output_type": "execute_result"
    },
    {
     "data": {
      "image/png": "[encoded data removed]",
      "text/plain": [
       "<Figure size 864x432 with 1 Axes>"
      ]
     },
     "metadata": {},
     "output_type": "display_data"
    },
    {
     "data": {
      "image/png": "[encoded data removed]",
      "text/plain": [
       "<Figure size 864x432 with 1 Axes>"
      ]
     },
     "metadata": {},
     "output_type": "display_data"
    },
    {
     "data": {
      "image/png": "[encoded data removed]",
      "text/plain": [
       "<Figure size 864x576 with 1 Axes>"
      ]
     },
     "metadata": {},
     "output_type": "display_data"
    }
   ],
   "source": [
    "#### Question 4 Answer Code\n",
    "# Write code for you answer to this question in this box\n",
    "# Do not delete these comments, otherwise you will get zero for this answer.\n",
    "# Make sure your code has run and the answer is correct *before* submitting your notebook for markinga\n",
    "\n",
    "#------------------Function of polynomial basis-----------------\n",
    "#\n",
    "#def polynomial(x, degree, loc, scale):\n",
    "def polynomial(x, **kwargs):\n",
    "    degrees = np.arange(kwargs['degree'] + 1)\n",
    "    Phi = ((x - kwargs['loc'])/kwargs['scale'])**degrees\n",
    "    return Phi\n",
    "#------------------Function of Prediction-----------------------\n",
    "def prediction(w, x, basis, **kwargs):\n",
    "    if basis == linear:\n",
    "        Phi = linear(x)\n",
    "    elif basis == quadratic:\n",
    "        Phi = quadratic(x)\n",
    "    elif basis == polynomial:\n",
    "        Phi = polynomial(x, **kwargs)\n",
    "    f = np.dot(Phi, w)\n",
    "    return f\n",
    "#------------------Function of Objective-------------------------\n",
    "def objective(w, x, y, basis, **kwargs):\n",
    "    if basis == linear:\n",
    "        f = prediction(w, x, linear)\n",
    "    elif basis == quadratic:\n",
    "        f = prediction(w, x, quadratic)\n",
    "    elif basis == polynomial:\n",
    "        f = prediction(w, x, polynomial,**kwargs)\n",
    "    e = float(np.dot((y-f).T, (y-f)))\n",
    "    return e\n",
    "#------------------Function of Fit-------------------------------\n",
    "def fit(x, y, basis, **kwargs):\n",
    "    if basis == linear:\n",
    "        Phi = linear(x)\n",
    "    elif basis == quadratic:\n",
    "        Phi = quadratic(x)\n",
    "    elif basis == polynomial:\n",
    "        Phi = polynomial(x, **kwargs)\n",
    "    w = np.linalg.solve(np.dot(Phi.T, Phi),np.dot(Phi.T, y)) \n",
    "    return w\n",
    "\n",
    "#-------------select indices of data to 'hold out'--------------\n",
    "indices_hold_out = np.flatnonzero(x>1980)\n",
    "# Create a training set\n",
    "x_train = np.delete(x, indices_hold_out, axis=0)\n",
    "y_train = np.delete(y, indices_hold_out, axis=0)\n",
    "# Create a hold out set\n",
    "x_valid = np.take(x, indices_hold_out, axis=0)\n",
    "y_valid = np.take(y, indices_hold_out, axis=0)\n",
    "\n",
    "#--------------main-------------\n",
    "max_degree = 17\n",
    "ev_v = np.zeros(shape=(18,2))\n",
    "ev_t = np.zeros(shape=(18,2))\n",
    "for i in range (max_degree + 1):\n",
    "    Phi = polynomial(x_train, degree=i, loc=1956., scale=120.)\n",
    "#    f = prediction(w, x, basis=polynomial, degree=i, loc=1956., scale=120.)\n",
    "    w = fit(x, y, basis=polynomial, degree=i, loc=1956., scale=120.)\n",
    "    w_train = fit(x_train, y_train, basis=polynomial, degree=i, loc=1956., scale=120.)\n",
    "    e = objective(w, x, y, basis=polynomial,degree=i, loc=1956., scale=120.)    \n",
    "    e_v = objective(w_train, x_valid, y_valid, basis=polynomial,degree=i, loc=1956., scale=120.)\n",
    "    e_t = objective(w_train, x_train, y_train, basis=polynomial,degree=i, loc=1956., scale=120.)\n",
    "    ev_v[i] = [i,e_v]\n",
    "    ev_t[i] = [i,e_t]\n",
    "\n",
    "min_ev = np.min(ev_v[:,1])\n",
    "min_et = np.min(ev_t[:,1])\n",
    "\n",
    "for i in range(18):\n",
    "    if ev_v[i,1] == min_ev:\n",
    "        print (i,\"degree polynomial has the minimum validation error\", min_ev)\n",
    "    if ev_t[i,1] == min_et:\n",
    "        print (i,\"degree polynomial has the minimum training error\", min_et)\n",
    "\n",
    "'''\n",
    "#---------plot the hold out error and the training error---------\n",
    "fig, ax = plt.subplots(figsize=(12,6))\n",
    "ax.plot(ev_v[:,0], ev_v[:,1], 'r', label = 'Error_valid')\n",
    "ax.plot(ev_t[:,0], ev_t[:,1], 'b', label = 'Error_training')\n",
    "ax.legend(loc='upper left')\n",
    "ax.set_title('The hold out error and the training error ') \n",
    "'''\n",
    "#------------------plot the validation error ---------------------\n",
    "fig, ax = plt.subplots(figsize=(12,6))\n",
    "ax.plot(ev_v[:,0], ev_v[:,1], 'r.')\n",
    "ax.set_xlabel('num basis')\n",
    "ax.set_ylabel('Error')\n",
    "ax.set_xlim([-1, 18])\n",
    "ax.set_title('The validation error')\n",
    "\n",
    "#------------------plot the training error------------------------\n",
    "fig, ax = plt.subplots(figsize=(12,6))\n",
    "ax.plot(ev_t[:,0], ev_t[:,1], 'b.')\n",
    "ax.set_xlabel('num basis')\n",
    "ax.set_ylabel('Error')\n",
    "ax.set_xlim([-1, 18])\n",
    "ax.set_title('The training error ')\n",
    "\n",
    "#------------------------plot function----------------------------\n",
    "fig, ax = plt.subplots(figsize=(12,8))\n",
    "ax.set_ylim([-1.1, 1.1])\n",
    "col = np.random.random((18,3))\n",
    "ax.plot(x_train, Phi[:,0], color=col[0,:], label = '$\\Phi$(x) degree = 0')\n",
    "ax.plot(x_train, Phi[:,1], color=col[1,:], label = '$\\Phi$(x) degree = 1')\n",
    "ax.plot(x_train, Phi[:,2], color=col[2,:], label = '$\\Phi$(x) degree = 2')\n",
    "ax.plot(x_train, Phi[:,3], color=col[3,:], label = '$\\Phi$(x) degree = 3')\n",
    "ax.plot(x_train, Phi[:,4], color=col[4,:], label = '$\\Phi$(x) degree = 4')\n",
    "ax.plot(x_train, Phi[:,5], color=col[5,:], label = '$\\Phi$(x) degree = 5')\n",
    "ax.plot(x_train, Phi[:,6], color=col[6,:], label = '$\\Phi$(x) degree = 6')\n",
    "ax.plot(x_train, Phi[:,7], color=col[7,:], label = '$\\Phi$(x) degree = 7')\n",
    "ax.plot(x_train, Phi[:,8], color=col[8,:], label = '$\\Phi$(x) degree = 8')\n",
    "ax.plot(x_train, Phi[:,9], color=col[9,:], label = '$\\Phi$(x) degree = 9')\n",
    "ax.plot(x_train, Phi[:,10], color=col[10,:], label = '$\\Phi$(x) degree = 10')\n",
    "ax.plot(x_train, Phi[:,11], color=col[11,:], label = '$\\Phi$(x) degree = 11')\n",
    "ax.plot(x_train, Phi[:,12], color=col[12,:], label = '$\\Phi$(x) degree = 12')\n",
    "ax.plot(x_train, Phi[:,13], color=col[13,:], label = '$\\Phi$(x) degree = 13')\n",
    "ax.plot(x_train, Phi[:,14], color=col[14,:], label = '$\\Phi$(x) degree = 14')\n",
    "ax.plot(x_train, Phi[:,15], color=col[15,:], label = '$\\Phi$(x) degree = 15')\n",
    "ax.plot(x_train, Phi[:,16], color=col[16,:], label = '$\\Phi$(x) degree = 16')\n",
    "ax.plot(x_train, Phi[:,17], color=col[17,:], label = '$\\Phi$(x) degree = 17')\n",
    "ax.legend(loc='lower right')\n",
    "ax.set_title('data range')\n",
    "\n",
    "\n",
    "#a = np.max(x)\n",
    "#b = np.min(x)\n",
    "#offset = a/2.0 + b/2.0\n",
    "#scale = a - b\n",
    "#print(a)\n",
    "#print(b)\n",
    "#print(offset)\n",
    "#print(scale)"
   ]
  },
  {
   "cell_type": "code",
   "execution_count": 40,
   "metadata": {},
   "outputs": [
    {
     "data": {
      "text/plain": [
       "array([[ 0.        ,  5.73633101],\n",
       "       [ 1.        ,  1.39277676],\n",
       "       [ 2.        ,  1.09853619],\n",
       "       [ 3.        ,  1.04391283],\n",
       "       [ 4.        ,  1.02421204],\n",
       "       [ 5.        ,  0.81024233],\n",
       "       [ 6.        ,  0.62871914],\n",
       "       [ 7.        ,  0.61028718],\n",
       "       [ 8.        ,  0.60885646],\n",
       "       [ 9.        ,  0.59716912],\n",
       "       [10.        ,  0.31872186],\n",
       "       [11.        ,  0.19660845],\n",
       "       [12.        ,  0.17420496],\n",
       "       [13.        ,  0.12946317],\n",
       "       [14.        ,  0.11105095],\n",
       "       [15.        ,  0.03448073],\n",
       "       [16.        ,  0.04630551],\n",
       "       [17.        ,  0.04503682]])"
      ]
     },
     "execution_count": 40,
     "metadata": {},
     "output_type": "execute_result"
    }
   ],
   "source": [
    "train_err = ev_t\n",
    "train_err \n",
    "# Column 0 represents degree of polynomial \n",
    "# Column 1 represents the corresponding training error"
   ]
  },
  {
   "cell_type": "markdown",
   "metadata": {},
   "source": [
    "## Leave One Out Validation\n",
    "\n",
    "Hold out validation uses a portion of the data to hold out and a portion of the data to train on. There is always a compromise between how much data to hold out and how much data to train on. The more data you hold out, the better the estimate of your performance at 'run-time' (when the model is used to make predictions in real applications). However, by holding out more data, you leave less data to train on, so you have a better validation, but a poorer quality model fit than you could have had if you'd used all the data for training. Leave one out cross validation leaves as much data in the training phase as possible: you only take *one point* out for your validation set. However, if you do this for hold-out validation, then the quality of your validation error is very poor because you are testing the model quality on one point only. In *cross validation* the approach is to improve this estimate by doing more than one model fit. In *leave one out cross validation* you fit $n$ different models, where $n$ is the number of your data. For each model fit you take out one data point, and train the model on the remaining $n-1$ data points. You validate the model on the data point you've held out, but you do this $n$ times, once for each different model. You then take the *average* of all the $n$ badly estimated hold out validation errors. The average of this estimate is a good estimate of performance of those models on the test data. "
   ]
  },
  {
   "cell_type": "markdown",
   "metadata": {},
   "source": [
    "### Assignment Question 5\n",
    "\n",
    "Write code that computes the *leave one out* validation error for the olympic data and the polynomial basis. Use the functions you have created above: `objective`, `fit`, `polynomial`. Compute the *leave-one-out* cross validation error for basis functions containing a maximum degree from 0 to 17.\n",
    "\n",
    "*20 marks*"
   ]
  },
  {
   "cell_type": "code",
   "execution_count": 182,
   "metadata": {},
   "outputs": [
    {
     "name": "stdout",
     "output_type": "stream",
     "text": [
      "num_basis =  0     leave-one-out cross validation error 0.3084218581905887\n",
      "num_basis =  1     leave-one-out cross validation error 0.09060070816797529\n",
      "num_basis =  2     leave-one-out cross validation error 0.057949923945294274\n",
      "num_basis =  3     leave-one-out cross validation error 0.059807050684710164\n",
      "num_basis =  4     leave-one-out cross validation error 0.06927418752471834\n",
      "num_basis =  5     leave-one-out cross validation error 0.08836110587080054\n",
      "num_basis =  6     leave-one-out cross validation error 0.08192830192027009\n",
      "num_basis =  7     leave-one-out cross validation error 0.05811513386611004\n",
      "num_basis =  8     leave-one-out cross validation error 0.12260215748772935\n",
      "num_basis =  9     leave-one-out cross validation error 0.37178792648463205\n",
      "num_basis =  10     leave-one-out cross validation error 1.0449075849600904\n",
      "num_basis =  11     leave-one-out cross validation error 2.5644046556419995\n",
      "num_basis =  12     leave-one-out cross validation error 5.459390477987474\n",
      "num_basis =  13     leave-one-out cross validation error 8.319010567049766\n",
      "num_basis =  14     leave-one-out cross validation error 5.055256815566707\n",
      "num_basis =  15     leave-one-out cross validation error 31.79227080656014\n",
      "num_basis =  16     leave-one-out cross validation error 111.92619066084684\n",
      "num_basis =  17     leave-one-out cross validation error 447.7208382876058\n"
     ]
    },
    {
     "data": {
      "text/plain": [
       "Text(0.5,1,'Leave-one-out error ')"
      ]
     },
     "execution_count": 182,
     "metadata": {},
     "output_type": "execute_result"
    },
    {
     "data": {
      "image/png": "[encoded data removed]",
      "text/plain": [
       "<Figure size 864x432 with 1 Axes>"
      ]
     },
     "metadata": {},
     "output_type": "display_data"
    }
   ],
   "source": [
    "#### Question 5 Answer Code\n",
    "# Write code for you answer to this question in this box\n",
    "# Do not delete these comments, otherwise you will get zero for this answer.\n",
    "# Make sure your code has run and the answer is correct *before* submitting your notebook for marking.\n",
    "\n",
    "#--------------main-------------\n",
    "#print (x)\n",
    "max_degree = 17\n",
    "raw = int((x[:,0].shape)[0])\n",
    "e_v = 0.\n",
    "total_err = 0.\n",
    "ev_v = np.zeros(shape=((max_degree+1),2))\n",
    "for i in range (max_degree + 1):\n",
    "    for j in range (raw):\n",
    "        #-------------select indices of data to 'hold out'--------------\n",
    "        indices_hold_out = np.flatnonzero(x == x[j,0])\n",
    "        # Create a training set\n",
    "        x_train = np.delete(x, indices_hold_out, axis=0)\n",
    "        y_train = np.delete(y, indices_hold_out, axis=0)\n",
    "        # Create a hold out set\n",
    "        x_valid = np.take(x, indices_hold_out, axis=0)\n",
    "        y_valid = np.take(y, indices_hold_out, axis=0)\n",
    "        \n",
    "        w_train = fit(x_train, y_train, basis=polynomial, degree=i, loc=1956., scale=120.)\n",
    "        e_v = objective(w_train, x_valid, y_valid, basis=polynomial,degree=i, loc=1956., scale=120.)\n",
    "        total_err += e_v\n",
    "        \n",
    "    e_v_mean = total_err / (int((x[:,0].shape)[0]))\n",
    "    print ('num_basis = ',i,\"   \",\"leave-one-out cross validation error\",e_v_mean)\n",
    "    total_err = 0.\n",
    "    ev_v[i] = [i,e_v_mean]\n",
    "\n",
    "#------------------plot the training error------------------------\n",
    "fig, ax = plt.subplots(figsize=(12,6))\n",
    "ax.plot(ev_v[:,0], ev_v[:,1], 'r.')\n",
    "#ax.legend(loc='upper right')\n",
    "ax.set_xlabel('num basis')\n",
    "ax.set_ylabel('Error')\n",
    "ax.set_title('Leave-one-out error ')\n",
    "        "
   ]
  },
  {
   "cell_type": "markdown",
   "metadata": {},
   "source": [
    "## $k$-fold Cross Validation\n",
    "\n",
    "Leave one out cross validation produces a very good estimate of the performance at test time, and is particularly useful if you don't have a lot of data. In these cases you need to make as much use of your data for model fitting as possible, and having a large hold out data set (to validate model performance) can have a significant effect on the size of the data set you have to fit your model, and correspondingly, the complexity of the model you can fit. However, leave one out cross validation involves fitting $n$ models, where $n$ is your number of training data. For the olympics example, this is only 27 model fits, but in practice many data sets consist thousands or millions of data points, and fitting many millions of models for estimating validation error isn't really practical. One option is to return to *hold out* validation, but another approach is to perform $k$-fold cross validation. In $k$-fold cross validation you split your data into $k$ parts. Then you use $k-1$ of those parts for training, and hold out one part for validation. Just like we did for the hold out validation above. In *cross* validation, however, you repeat this process. You swap the part of the data you just used for validation back in to the training set and select another part for validation. You then fit the model to the new training data and validate on the portion of data you've just extracted. Each split of training/validation data is called a *fold* and since you do this process $k$ times, the procedure is known as $k$-fold cross validation. The term *cross* refers to the fact that you cross over your validation portion back into the training data every time you perform a fold.  "
   ]
  },
  {
   "cell_type": "markdown",
   "metadata": {},
   "source": [
    "### Assignment Question 6\n",
    "\n",
    "Perform $k$-fold cross validation on the olympic data with your polynomial basis. Use $k$ set to 5 (e.g. five fold cross validation). Do the different forms of validation select different models? Does five fold cross validation always select the same model?\n",
    "\n",
    "*20 marks*"
   ]
  },
  {
   "cell_type": "markdown",
   "metadata": {},
   "source": [
    "*Note*: The data doesn't divide into 5 equal size partitions for the five fold cross validation error. Don't worry about this too much. Two of the partitions will have an extra data point. You might find `np.random.permutation?` useful."
   ]
  },
  {
   "cell_type": "code",
   "execution_count": 78,
   "metadata": {},
   "outputs": [],
   "source": [
    "np.random.permutation?"
   ]
  },
  {
   "cell_type": "code",
   "execution_count": 181,
   "metadata": {},
   "outputs": [
    {
     "name": "stdout",
     "output_type": "stream",
     "text": [
      "num_basis =  0     k fold cross validation error 0.4864195479353925\n",
      "num_basis =  1     k fold cross validation error 0.3912134036410349\n",
      "num_basis =  2     k fold cross validation error 0.3153336295048542\n",
      "num_basis =  3     k fold cross validation error 0.27323692428851765\n",
      "num_basis =  4     k fold cross validation error 0.3484710492587443\n",
      "num_basis =  5     k fold cross validation error 0.44623803775808313\n",
      "num_basis =  6     k fold cross validation error 0.38395788766968963\n",
      "num_basis =  7     k fold cross validation error 0.20511315583413464\n",
      "num_basis =  8     k fold cross validation error 0.1836091699016926\n",
      "num_basis =  9     k fold cross validation error 0.17911817930178406\n",
      "num_basis =  10     k fold cross validation error 0.153552306415414\n",
      "num_basis =  11     k fold cross validation error 0.09319983106197041\n",
      "num_basis =  12     k fold cross validation error 0.08780651845960273\n",
      "num_basis =  13     k fold cross validation error 0.3898245651028509\n",
      "num_basis =  14     k fold cross validation error 0.2990016165704949\n",
      "num_basis =  15     k fold cross validation error 0.2723984937594478\n",
      "num_basis =  16     k fold cross validation error 0.40151795174298277\n",
      "num_basis =  17     k fold cross validation error 0.844230249061547\n"
     ]
    },
    {
     "data": {
      "text/plain": [
       "Text(0.5,1,'K fold cross validation error ')"
      ]
     },
     "execution_count": 181,
     "metadata": {},
     "output_type": "execute_result"
    },
    {
     "data": {
      "image/png": "[encoded data removed]",
      "text/plain": [
       "<Figure size 864x432 with 1 Axes>"
      ]
     },
     "metadata": {},
     "output_type": "display_data"
    }
   ],
   "source": [
    "#### Question 6 Answer Code\n",
    "# Write code for you answer to this question in this box\n",
    "# Do not delete these comments, otherwise you will get zero for this answer.\n",
    "# Make sure your code has run and the answer is correct *before* submitting your notebook for marking.\n",
    "\n",
    "\n",
    "#--------------Function use k-fold to split data set-------------\n",
    "def k_fold (x, y, p):\n",
    "    for i in range (p.shape[0]):\n",
    "        indices = np.flatnonzero(x == p[i,0])\n",
    "        if(i==0):\n",
    "            indices_hold_out = indices\n",
    "        else: \n",
    "            indices_hold_out = np.concatenate([indices_hold_out,indices])\n",
    "    # Create a training set\n",
    "    x_train = np.delete(x, indices_hold_out, axis=0)\n",
    "    y_train = np.delete(y, indices_hold_out, axis=0)\n",
    "    # Create a hold out set\n",
    "    x_valid = np.take(x, indices_hold_out, axis=0)\n",
    "    y_valid = np.take(y, indices_hold_out, axis=0)\n",
    "    return x_train, y_train, x_valid, y_valid\n",
    "\n",
    "#------------------------main--------------------------\n",
    "k = 5\n",
    "x2 = np.random.permutation(x)\n",
    "p1, p2, p3, p4, p5 = np.split(x2,[k,2*k,3*k,4*k+1])\n",
    "max_degree = 17\n",
    "ev_v = np.zeros(shape=((max_degree+1),2))\n",
    "for i in range (max_degree + 1):\n",
    "    x_train, y_train, x_valid, y_valid = k_fold(x,y,p=p1)       \n",
    "    w_train = fit(x_train, y_train, basis=polynomial, degree=i, loc=1956., scale=120.)\n",
    "    e_v = objective(w_train, x_valid, y_valid, basis=polynomial,degree=i, loc=1956., scale=120.)\n",
    "            \n",
    "    print ('num_basis = ',i,\"   \",\"k fold cross validation error\",e_v)   \n",
    "    ev_v[i] = [i,e_v]\n",
    "   \n",
    "#------------------plot the training error------------------------\n",
    "fig, ax = plt.subplots(figsize=(12,6))\n",
    "ax.plot(ev_v[:,0], ev_v[:,1], 'r.')\n",
    "ax.set_xlabel('num basis')\n",
    "ax.set_ylabel('Error')\n",
    "ax.set_title('K fold cross validation error ')\n",
    "        \n"
   ]
  }
 ],
 "metadata": {
  "kernelspec": {
   "display_name": "Python 3",
   "language": "python",
   "name": "python3"
  },
  "language_info": {
   "codemirror_mode": {
    "name": "ipython",
    "version": 3
   },
   "file_extension": ".py",
   "mimetype": "text/x-python",
   "name": "python",
   "nbconvert_exporter": "python",
   "pygments_lexer": "ipython3",
   "version": "3.6.5"
  }
 },
 "nbformat": 4,
 "nbformat_minor": 1
}
